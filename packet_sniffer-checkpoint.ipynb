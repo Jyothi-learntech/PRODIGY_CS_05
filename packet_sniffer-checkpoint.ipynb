{
 "cells": [
  {
   "cell_type": "code",
   "execution_count": 102,
   "id": "9855d24f-316c-4b75-95e5-05c28f843b24",
   "metadata": {},
   "outputs": [
    {
     "name": "stdout",
     "output_type": "stream",
     "text": [
      "------------------------ Packet Sniffer Tool Disclaimer ---------------------------\n",
      "This packet sniffer tool is intended for educational and ethical purposes only.\n",
      "Unauthorized use, distribution, or modification of this tool is strictly prohibited.\n",
      "By using this tool, you agree to the following terms and conditions:\n",
      "\n",
      "1. You will only use this tool on networks and systems for which you have explicit permission.\n",
      "2. You will not use this tool to violate any laws, regulations, or terms of service.\n",
      "3. You will not use this tool to harm, disrupt, or exploit any networks or systems.\n",
      "4. You will not use this tool to intercept, collect, or store any sensitive or confidential information.\n",
      "5. You will not redistribute or sell this tool without the express permission of the author.\n",
      "6. The author is not responsible for any damages or losses incurred as a result of using this tool.\n",
      "7. You will respect the privacy and security of all networks and systems you interact with using this tool.\n"
     ]
    },
    {
     "name": "stdin",
     "output_type": "stream",
     "text": [
      "\n",
      "Do you accept these terms and conditions? (yes/no):  yes\n"
     ]
    },
    {
     "name": "stdout",
     "output_type": "stream",
     "text": [
      "You must accept the terms and conditions before using this tool.\n"
     ]
    },
    {
     "ename": "SystemExit",
     "evalue": "",
     "output_type": "error",
     "traceback": [
      "An exception has occurred, use %tb to see the full traceback.\n",
      "\u001b[1;31mSystemExit\u001b[0m\n"
     ]
    }
   ],
   "source": [
    "import os\n",
    "import sys\n",
    "def scapy():\n",
    "    from scapy.all import sniff, IP, TCP, UDP, Raw\n",
    "\n",
    "\n",
    "print(\"------------------------ Packet Sniffer Tool Disclaimer ---------------------------\")\n",
    "print(\"This packet sniffer tool is intended for educational and ethical purposes only.\")\n",
    "print(\"Unauthorized use, distribution, or modification of this tool is strictly prohibited.\")\n",
    "print(\"By using this tool, you agree to the following terms and conditions:\")\n",
    "print(\"\\n1. You will only use this tool on networks and systems for which you have explicit permission.\")\n",
    "print(\"2. You will not use this tool to violate any laws, regulations, or terms of service.\")\n",
    "print(\"3. You will not use this tool to harm, disrupt, or exploit any networks or systems.\")\n",
    "print(\"4. You will not use this tool to intercept, collect, or store any sensitive or confidential information.\")\n",
    "print(\"5. You will not redistribute or sell this tool without the express permission of the author.\")\n",
    "print(\"6. The author is not responsible for any damages or losses incurred as a result of using this tool.\")\n",
    "print(\"7. You will respect the privacy and security of all networks and systems you interact with using this tool.\")\n",
    "\n",
    "accepting_terms = input(\"\\nDo you accept these terms and conditions? (yes/no): \")\n",
    "\n",
    "if accepting_terms.lower() != 'no':\n",
    "    print(\"You must accept the terms and conditions before using this tool.\")\n",
    "    sys.exit()\n",
    "\n",
    "# Packet callback function\n",
    "def packet_callback(packet):\n",
    "    if IP in packet:\n",
    "        src_ip = packet[IP].src\n",
    "        dst_ip = packet[IP].dst\n",
    "        proto = packet[IP].proto\n",
    "        \n",
    "        log_data = Back.BLACK+Fore.RED+f\"Source IP: {src_ip} --> Destination IP: {dst_ip} | Protocol: {proto}\\n\"\n",
    "\n",
    "        if TCP in packet:\n",
    "            payload = packet[TCP].payload\n",
    "            log_data += Fore.CYAN+f\"TCP Payload: {payload}\\n\"\n",
    "        elif UDP in packet:\n",
    "            payload = packet[UDP].payload\n",
    "            log_data += Fore.BLUE+f\"UDP Payload: {payload}\\n\"\n",
    "        elif ICMP in packet:\n",
    "            payload = packet[ICMP].payload\n",
    "            log_data += Fore.YELLOW+f\"ICMP Payload: {payload}\\n\"\n",
    "        \n",
    "        print(log_data)  # Print to console\n",
    "\n",
    "        with open(\"packet_log.txt\", \"a\") as log_file:\n",
    "            log_file.write(log_data)\n",
    "        \n",
    "        print(\"Packet logged.\")\n",
    "\n",
    "# Function to prompt the user to accept the terms\n",
    "def accept_terms():\n",
    "    display_terms()\n",
    "\n",
    "# Calls the sniff() function from the Scapy library to capture and analyze network packets\n",
    "sniff(filter=\"tcp\", prn=packet_sniff, store=0, count=10)\n",
    "\n",
    "# Ask the user to accept the terms before starting packet sniffing\n",
    "try:\n",
    "    if accept_terms():\n",
    "        print(\"Terms accepted. Starting packet sniffing...\")\n",
    "        print(Back.WHITE)\n",
    "        sniff(prn=packet_callback, filter=\"ip\")\n",
    "    else:\n",
    "        print(\"Terms not accepted. Exiting.\")\n",
    "except KeyboardInterrupt:\n",
    "    print(\"Packet sniffing interrupted by user. Exiting.\")\n",
    "\n"
   ]
  },
  {
   "cell_type": "code",
   "execution_count": null,
   "id": "a299e225-d0ee-4300-9e47-5526ca6f83cb",
   "metadata": {},
   "outputs": [
    {
     "name": "stdout",
     "output_type": "stream",
     "text": [
      "------------------------ Packet Sniffer Tool Disclaimer ---------------------------\n",
      "This packet sniffer tool is intended for educational and ethical purposes only.\n",
      "Unauthorized use, distribution, or modification of this tool is strictly prohibited.\n",
      "By using this tool, you agree to the following terms and conditions:\n",
      "\n",
      "1. You will only use this tool on networks and systems for which you have explicit permission.\n",
      "2. You will not use this tool to violate any laws, regulations, or terms of service.\n",
      "3. You will not use this tool to harm, disrupt, or exploit any networks or systems.\n",
      "4. You will not use this tool to intercept, collect, or store any sensitive or confidential information.\n",
      "5. You will not redistribute or sell this tool without the express permission of the author.\n",
      "6. The author is not responsible for any damages or losses incurred as a result of using this tool.\n",
      "7. You will respect the privacy and security of all networks and systems you interact with using this tool.\n"
     ]
    }
   ],
   "source": [
    "import os\n",
    "import sys\n",
    "def scapy():\n",
    "    from scapy.all import sniff, IP, TCP, UDP, Raw\n",
    "\n",
    "# Disclaimer and terms of use\n",
    "print(\"------------------------ Packet Sniffer Tool Disclaimer ---------------------------\")\n",
    "print(\"This packet sniffer tool is intended for educational and ethical purposes only.\")\n",
    "print(\"Unauthorized use, distribution, or modification of this tool is strictly prohibited.\")\n",
    "print(\"By using this tool, you agree to the following terms and conditions:\")\n",
    "print(\"\\n1. You will only use this tool on networks and systems for which you have explicit permission.\")\n",
    "print(\"2. You will not use this tool to violate any laws, regulations, or terms of service.\")\n",
    "print(\"3. You will not use this tool to harm, disrupt, or exploit any networks or systems.\")\n",
    "print(\"4. You will not use this tool to intercept, collect, or store any sensitive or confidential information.\")\n",
    "print(\"5. You will not redistribute or sell this tool without the express permission of the author.\")\n",
    "print(\"6. The author is not responsible for any damages or losses incurred as a result of using this tool.\")\n",
    "print(\"7. You will respect the privacy and security of all networks and systems you interact with using this tool.\")\n",
    "\n",
    "accept_terms = input(\"\\nDo you accept these terms and conditions? (y/n): \")\n",
    "\n",
    "if accept_terms.lower() != 'no':\n",
    "    print(\"You must accept the terms and conditions before using this tool.\")\n",
    "    sys.exit()\n",
    "\n",
    "print(\"\\n--------------- Packet Sniffing Tool ---------------\")\n",
    "\n",
    "# Defines a function to display and save the captured packets\n",
    "def packet_sniff(packet):\n",
    "    if packet.haslayer(TCP):\n",
    "        src_ip = packet[IP].src\n",
    "        dst_ip = packet[IP].dst\n",
    "        src_port = packet[TCP].sport\n",
    "        dst_port = packet[TCP].dport\n",
    "        protocol = packet[IP].proto\n",
    "        payload = str(packet[TCP].payload)\n",
    "\n",
    "        output_string = f\"Source IP: {src_ip}\\n\"\n",
    "        output_string += f\"Destination IP: {dst_ip}\\n\"\n",
    "        output_string += f\"Source Port: {src_port}\\n\"\n",
    "        output_string += f\"Destination Port: {dst_port}\\n\"\n",
    "        output_string += f\"Protocol: {protocol}\\n\"\n",
    "        output_string += f\"Payload: {payload[:50]}...\\n\"\n",
    "\n",
    "        print(output_string, end='')\n",
    "        with open('packet_sniffer_results.txt', 'a') as f:\n",
    "            f.write(output_string)\n",
    "\n",
    "# Sets the path and filename for the output text file\n",
    "output_file = \"packet_sniffer_results.txt\"\n",
    "\n",
    "# Calls the sniff() function from the Scapy library to capture and analyze network packets\n",
    "sniff(filter=\"tcp\", prn=packet_sniff, store=0, count=10)\n",
    "\n",
    "# Displays the output file's name and location after successful sniffing\n",
    "print(f\"\\nResults saved to: {output_file}\")"
   ]
  },
  {
   "cell_type": "code",
   "execution_count": null,
   "id": "b2f86901-ca4d-4f7d-9f39-5e879f309006",
   "metadata": {},
   "outputs": [],
   "source": []
  },
  {
   "cell_type": "code",
   "execution_count": null,
   "id": "28d5b41c-9f64-44ae-91a5-a3aa556d2aca",
   "metadata": {},
   "outputs": [],
   "source": []
  }
 ],
 "metadata": {
  "kernelspec": {
   "display_name": "Python 3 (ipykernel)",
   "language": "python",
   "name": "python3"
  },
  "language_info": {
   "codemirror_mode": {
    "name": "ipython",
    "version": 3
   },
   "file_extension": ".py",
   "mimetype": "text/x-python",
   "name": "python",
   "nbconvert_exporter": "python",
   "pygments_lexer": "ipython3",
   "version": "3.12.4"
  }
 },
 "nbformat": 4,
 "nbformat_minor": 5
}
